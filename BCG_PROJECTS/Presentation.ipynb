{
 "cells": [
  {
   "cell_type": "markdown",
   "id": "d5604ec0",
   "metadata": {},
   "source": [
    "## Presentations"
   ]
  },
  {
   "cell_type": "code",
   "execution_count": 5,
   "id": "bdb25baf",
   "metadata": {},
   "outputs": [],
   "source": [
    "import pandas as pd\n",
    "import numpy as np\n",
    "from pycaret.utils.generic import check_metric\n",
    "from pycaret.classification import *"
   ]
  },
  {
   "cell_type": "markdown",
   "id": "6947a4e8",
   "metadata": {},
   "source": [
    "### The Predicted_Churn and Score columns are added onto the dataset where:\n",
    "\n",
    "Predicted_Churn is the prediction (where 1 = churn, 0 = not churn)\n",
    "\n",
    "Score is the probability of the prediction"
   ]
  },
  {
   "cell_type": "code",
   "execution_count": 6,
   "id": "53627b3e",
   "metadata": {},
   "outputs": [
    {
     "data": {
      "text/html": [
       "<div>\n",
       "<style scoped>\n",
       "    .dataframe tbody tr th:only-of-type {\n",
       "        vertical-align: middle;\n",
       "    }\n",
       "\n",
       "    .dataframe tbody tr th {\n",
       "        vertical-align: top;\n",
       "    }\n",
       "\n",
       "    .dataframe thead th {\n",
       "        text-align: right;\n",
       "    }\n",
       "</style>\n",
       "<table border=\"1\" class=\"dataframe\">\n",
       "  <thead>\n",
       "    <tr style=\"text-align: right;\">\n",
       "      <th></th>\n",
       "      <th>channel_sales</th>\n",
       "      <th>cons_12m</th>\n",
       "      <th>cons_gas_12m</th>\n",
       "      <th>cons_last_month</th>\n",
       "      <th>forecast_cons_12m</th>\n",
       "      <th>forecast_cons_year</th>\n",
       "      <th>forecast_discount_energy</th>\n",
       "      <th>forecast_meter_rent_12m</th>\n",
       "      <th>forecast_price_energy_off_peak</th>\n",
       "      <th>forecast_price_energy_peak</th>\n",
       "      <th>...</th>\n",
       "      <th>pow_max</th>\n",
       "      <th>price_off_peak_var</th>\n",
       "      <th>price_peak_var</th>\n",
       "      <th>price_mid_peak_var</th>\n",
       "      <th>price_off_peak_fix</th>\n",
       "      <th>price_peak_fix</th>\n",
       "      <th>price_mid_peak_fix</th>\n",
       "      <th>churn</th>\n",
       "      <th>prediction_label</th>\n",
       "      <th>prediction_score</th>\n",
       "    </tr>\n",
       "  </thead>\n",
       "  <tbody>\n",
       "    <tr>\n",
       "      <th>0</th>\n",
       "      <td>foosdfpfkusacimwkcsosbicdxkicaua</td>\n",
       "      <td>8760</td>\n",
       "      <td>0</td>\n",
       "      <td>145</td>\n",
       "      <td>741.89</td>\n",
       "      <td>0</td>\n",
       "      <td>0.0</td>\n",
       "      <td>16.81</td>\n",
       "      <td>0.120372</td>\n",
       "      <td>0.000000</td>\n",
       "      <td>...</td>\n",
       "      <td>13.200</td>\n",
       "      <td>0.131032</td>\n",
       "      <td>0.000000</td>\n",
       "      <td>0.000000</td>\n",
       "      <td>41.06397</td>\n",
       "      <td>0.00000</td>\n",
       "      <td>0.000000</td>\n",
       "      <td>0</td>\n",
       "      <td>0</td>\n",
       "      <td>1.0</td>\n",
       "    </tr>\n",
       "    <tr>\n",
       "      <th>1</th>\n",
       "      <td>foosdfpfkusacimwkcsosbicdxkicaua</td>\n",
       "      <td>16358</td>\n",
       "      <td>0</td>\n",
       "      <td>1029</td>\n",
       "      <td>1249.89</td>\n",
       "      <td>464</td>\n",
       "      <td>0.0</td>\n",
       "      <td>19.61</td>\n",
       "      <td>0.144038</td>\n",
       "      <td>0.086380</td>\n",
       "      <td>...</td>\n",
       "      <td>13.856</td>\n",
       "      <td>0.147600</td>\n",
       "      <td>0.085725</td>\n",
       "      <td>0.000000</td>\n",
       "      <td>44.26693</td>\n",
       "      <td>0.00000</td>\n",
       "      <td>0.000000</td>\n",
       "      <td>0</td>\n",
       "      <td>0</td>\n",
       "      <td>1.0</td>\n",
       "    </tr>\n",
       "    <tr>\n",
       "      <th>2</th>\n",
       "      <td>foosdfpfkusacimwkcsosbicdxkicaua</td>\n",
       "      <td>10423</td>\n",
       "      <td>0</td>\n",
       "      <td>365</td>\n",
       "      <td>858.23</td>\n",
       "      <td>0</td>\n",
       "      <td>0.0</td>\n",
       "      <td>17.67</td>\n",
       "      <td>0.141434</td>\n",
       "      <td>0.000000</td>\n",
       "      <td>...</td>\n",
       "      <td>13.200</td>\n",
       "      <td>0.144065</td>\n",
       "      <td>0.000000</td>\n",
       "      <td>0.000000</td>\n",
       "      <td>44.26693</td>\n",
       "      <td>0.00000</td>\n",
       "      <td>0.000000</td>\n",
       "      <td>0</td>\n",
       "      <td>0</td>\n",
       "      <td>1.0</td>\n",
       "    </tr>\n",
       "    <tr>\n",
       "      <th>3</th>\n",
       "      <td>usilxuppasemubllopkaafesmlibmsdf</td>\n",
       "      <td>904954</td>\n",
       "      <td>75074</td>\n",
       "      <td>82136</td>\n",
       "      <td>6125.98</td>\n",
       "      <td>5968</td>\n",
       "      <td>0.0</td>\n",
       "      <td>145.72</td>\n",
       "      <td>0.166178</td>\n",
       "      <td>0.101750</td>\n",
       "      <td>...</td>\n",
       "      <td>41.500</td>\n",
       "      <td>0.170590</td>\n",
       "      <td>0.107163</td>\n",
       "      <td>0.076311</td>\n",
       "      <td>44.44471</td>\n",
       "      <td>24.43733</td>\n",
       "      <td>16.291555</td>\n",
       "      <td>1</td>\n",
       "      <td>1</td>\n",
       "      <td>1.0</td>\n",
       "    </tr>\n",
       "    <tr>\n",
       "      <th>4</th>\n",
       "      <td>usilxuppasemubllopkaafesmlibmsdf</td>\n",
       "      <td>334821</td>\n",
       "      <td>22485</td>\n",
       "      <td>31128</td>\n",
       "      <td>4855.80</td>\n",
       "      <td>4464</td>\n",
       "      <td>0.0</td>\n",
       "      <td>143.88</td>\n",
       "      <td>0.164637</td>\n",
       "      <td>0.100572</td>\n",
       "      <td>...</td>\n",
       "      <td>31.500</td>\n",
       "      <td>0.168185</td>\n",
       "      <td>0.105842</td>\n",
       "      <td>0.075096</td>\n",
       "      <td>44.44471</td>\n",
       "      <td>24.43733</td>\n",
       "      <td>16.291555</td>\n",
       "      <td>1</td>\n",
       "      <td>1</td>\n",
       "      <td>1.0</td>\n",
       "    </tr>\n",
       "  </tbody>\n",
       "</table>\n",
       "<p>5 rows × 29 columns</p>\n",
       "</div>"
      ],
      "text/plain": [
       "                      channel_sales  cons_12m  cons_gas_12m  cons_last_month  \\\n",
       "0  foosdfpfkusacimwkcsosbicdxkicaua      8760             0              145   \n",
       "1  foosdfpfkusacimwkcsosbicdxkicaua     16358             0             1029   \n",
       "2  foosdfpfkusacimwkcsosbicdxkicaua     10423             0              365   \n",
       "3  usilxuppasemubllopkaafesmlibmsdf    904954         75074            82136   \n",
       "4  usilxuppasemubllopkaafesmlibmsdf    334821         22485            31128   \n",
       "\n",
       "   forecast_cons_12m  forecast_cons_year  forecast_discount_energy  \\\n",
       "0             741.89                   0                       0.0   \n",
       "1            1249.89                 464                       0.0   \n",
       "2             858.23                   0                       0.0   \n",
       "3            6125.98                5968                       0.0   \n",
       "4            4855.80                4464                       0.0   \n",
       "\n",
       "   forecast_meter_rent_12m  forecast_price_energy_off_peak  \\\n",
       "0                    16.81                        0.120372   \n",
       "1                    19.61                        0.144038   \n",
       "2                    17.67                        0.141434   \n",
       "3                   145.72                        0.166178   \n",
       "4                   143.88                        0.164637   \n",
       "\n",
       "   forecast_price_energy_peak  ...  pow_max price_off_peak_var  \\\n",
       "0                    0.000000  ...   13.200           0.131032   \n",
       "1                    0.086380  ...   13.856           0.147600   \n",
       "2                    0.000000  ...   13.200           0.144065   \n",
       "3                    0.101750  ...   41.500           0.170590   \n",
       "4                    0.100572  ...   31.500           0.168185   \n",
       "\n",
       "   price_peak_var  price_mid_peak_var  price_off_peak_fix  price_peak_fix  \\\n",
       "0        0.000000            0.000000            41.06397         0.00000   \n",
       "1        0.085725            0.000000            44.26693         0.00000   \n",
       "2        0.000000            0.000000            44.26693         0.00000   \n",
       "3        0.107163            0.076311            44.44471        24.43733   \n",
       "4        0.105842            0.075096            44.44471        24.43733   \n",
       "\n",
       "   price_mid_peak_fix  churn prediction_label  prediction_score  \n",
       "0            0.000000      0                0               1.0  \n",
       "1            0.000000      0                0               1.0  \n",
       "2            0.000000      0                0               1.0  \n",
       "3           16.291555      1                1               1.0  \n",
       "4           16.291555      1                1               1.0  \n",
       "\n",
       "[5 rows x 29 columns]"
      ]
     },
     "execution_count": 6,
     "metadata": {},
     "output_type": "execute_result"
    }
   ],
   "source": [
    "data_predictions = pd.read_csv('data_predictions.csv')\n",
    "data_predictions.rename(columns = {'Label': 'Predicted_Churn'}, inplace=True)\n",
    "data_predictions.head()"
   ]
  },
  {
   "cell_type": "code",
   "execution_count": 18,
   "id": "aea2bb3a",
   "metadata": {},
   "outputs": [
    {
     "name": "stdout",
     "output_type": "stream",
     "text": [
      "<class 'pandas.core.frame.DataFrame'>\n",
      "RangeIndex: 149753 entries, 0 to 149752\n",
      "Data columns (total 29 columns):\n",
      " #   Column                          Non-Null Count   Dtype  \n",
      "---  ------                          --------------   -----  \n",
      " 0   channel_sales                   149753 non-null  object \n",
      " 1   cons_12m                        149753 non-null  int64  \n",
      " 2   cons_gas_12m                    149753 non-null  int64  \n",
      " 3   cons_last_month                 149753 non-null  int64  \n",
      " 4   forecast_cons_12m               149753 non-null  float64\n",
      " 5   forecast_cons_year              149753 non-null  int64  \n",
      " 6   forecast_discount_energy        149753 non-null  float64\n",
      " 7   forecast_meter_rent_12m         149753 non-null  float64\n",
      " 8   forecast_price_energy_off_peak  149753 non-null  float64\n",
      " 9   forecast_price_energy_peak      149753 non-null  float64\n",
      " 10  forecast_price_pow_off_peak     149753 non-null  float64\n",
      " 11  has_gas                         149753 non-null  object \n",
      " 12  imp_cons                        149753 non-null  float64\n",
      " 13  margin_gross_pow_ele            149753 non-null  float64\n",
      " 14  margin_net_pow_ele              149753 non-null  float64\n",
      " 15  nb_prod_act                     149753 non-null  int64  \n",
      " 16  net_margin                      149753 non-null  float64\n",
      " 17  num_years_antig                 149753 non-null  int64  \n",
      " 18  origin_up                       149753 non-null  object \n",
      " 19  pow_max                         149753 non-null  float64\n",
      " 20  price_off_peak_var              149753 non-null  float64\n",
      " 21  price_peak_var                  149753 non-null  float64\n",
      " 22  price_mid_peak_var              149753 non-null  float64\n",
      " 23  price_off_peak_fix              149753 non-null  float64\n",
      " 24  price_peak_fix                  149753 non-null  float64\n",
      " 25  price_mid_peak_fix              149753 non-null  float64\n",
      " 26  churn                           149753 non-null  int64  \n",
      " 27  prediction_label                149753 non-null  int64  \n",
      " 28  prediction_score                149753 non-null  float64\n",
      "dtypes: float64(18), int64(8), object(3)\n",
      "memory usage: 33.1+ MB\n"
     ]
    }
   ],
   "source": [
    "data_predictions.info()"
   ]
  },
  {
   "cell_type": "markdown",
   "id": "748759a6",
   "metadata": {},
   "source": [
    "## Evaluate the performance of the model on the data\n",
    "\n",
    "Below is an overview of the performance of the model on the full data. The model is perfect, it only misclassified 6 retained customers as churned, other than that it performs very well 99.9% of the time"
   ]
  },
  {
   "cell_type": "code",
   "execution_count": 10,
   "id": "3163ae83",
   "metadata": {},
   "outputs": [
    {
     "data": {
      "text/html": [
       "<div>\n",
       "<style scoped>\n",
       "    .dataframe tbody tr th:only-of-type {\n",
       "        vertical-align: middle;\n",
       "    }\n",
       "\n",
       "    .dataframe tbody tr th {\n",
       "        vertical-align: top;\n",
       "    }\n",
       "\n",
       "    .dataframe thead th {\n",
       "        text-align: right;\n",
       "    }\n",
       "</style>\n",
       "<table border=\"1\" class=\"dataframe\">\n",
       "  <thead>\n",
       "    <tr style=\"text-align: right;\">\n",
       "      <th>prediction_label</th>\n",
       "      <th>0</th>\n",
       "      <th>1</th>\n",
       "    </tr>\n",
       "    <tr>\n",
       "      <th>churn</th>\n",
       "      <th></th>\n",
       "      <th></th>\n",
       "    </tr>\n",
       "  </thead>\n",
       "  <tbody>\n",
       "    <tr>\n",
       "      <th>0</th>\n",
       "      <td>133630</td>\n",
       "      <td>6</td>\n",
       "    </tr>\n",
       "    <tr>\n",
       "      <th>1</th>\n",
       "      <td>0</td>\n",
       "      <td>16117</td>\n",
       "    </tr>\n",
       "  </tbody>\n",
       "</table>\n",
       "</div>"
      ],
      "text/plain": [
       "prediction_label       0      1\n",
       "churn                          \n",
       "0                 133630      6\n",
       "1                      0  16117"
      ]
     },
     "execution_count": 10,
     "metadata": {},
     "output_type": "execute_result"
    }
   ],
   "source": [
    "pd.crosstab(data_predictions['churn'], data_predictions['prediction_label'])"
   ]
  },
  {
   "cell_type": "markdown",
   "id": "cc1eb5f3",
   "metadata": {},
   "source": [
    "## Accuracy : \n",
    "    The model has a 99% accuracy.\n",
    "\n",
    "    Accuracy = Predicted/total observed"
   ]
  },
  {
   "cell_type": "code",
   "execution_count": 12,
   "id": "96af3fc1",
   "metadata": {},
   "outputs": [
    {
     "data": {
      "text/plain": [
       "1.0"
      ]
     },
     "execution_count": 12,
     "metadata": {},
     "output_type": "execute_result"
    }
   ],
   "source": [
    "check_metric(data_predictions['churn'], data_predictions['prediction_label'], metric = 'Accuracy')"
   ]
  },
  {
   "cell_type": "markdown",
   "id": "e60404ab",
   "metadata": {},
   "source": [
    "### Precision\n",
    "The ratio of correctly predicted positive observations to the total predicted positive observations. The model has a 99% precision"
   ]
  },
  {
   "cell_type": "code",
   "execution_count": 14,
   "id": "7f8074e9",
   "metadata": {},
   "outputs": [
    {
     "data": {
      "text/plain": [
       "0.9996"
      ]
     },
     "execution_count": 14,
     "metadata": {},
     "output_type": "execute_result"
    }
   ],
   "source": [
    "check_metric(data_predictions['churn'], data_predictions['prediction_label'], metric = 'Precision')"
   ]
  },
  {
   "cell_type": "markdown",
   "id": "f29e2edb",
   "metadata": {},
   "source": [
    "### Recall (a.k.a Sensitivity)\n",
    "\n",
    "The ratio of correctly predicted positive observations to the all observations in actual class"
   ]
  },
  {
   "cell_type": "code",
   "execution_count": 16,
   "id": "1eb9d43b",
   "metadata": {},
   "outputs": [
    {
     "data": {
      "text/plain": [
       "1.0"
      ]
     },
     "execution_count": 16,
     "metadata": {},
     "output_type": "execute_result"
    }
   ],
   "source": [
    "check_metric(data_predictions['churn'], data_predictions['prediction_label'], metric = 'Recall')"
   ]
  },
  {
   "cell_type": "markdown",
   "id": "30344353",
   "metadata": {},
   "source": [
    "### Business Impact\n",
    "\n",
    "The SME division head proposed that we give a 20% discount to high propensity-to-churn customers.\n",
    "\n",
    "However we need a cut-off to implement this, for this study, i used 75%. In other words, we will offer the discount to customers with 75% or higher probability of churning."
   ]
  },
  {
   "cell_type": "code",
   "execution_count": 19,
   "id": "5a987ffa",
   "metadata": {},
   "outputs": [],
   "source": [
    "data_predictions['revenue'] = data_predictions['forecast_cons_12m'] * data_predictions['forecast_price_energy_off_peak'] \n",
    "data_new = data_predictions[['churn','prediction_label', 'prediction_score', 'revenue']]"
   ]
  },
  {
   "cell_type": "code",
   "execution_count": 25,
   "id": "ff7cc7c7",
   "metadata": {},
   "outputs": [],
   "source": [
    "def churn_cutoff(df, cutoff=0.75, churn='prediction_label', score='prediction_score'):\n",
    "    df = df[df[churn] == 1]\n",
    "    df = df[df[score] >= cutoff]\n",
    "    df = df.sort_values(by='prediction_score', ascending=False)\n",
    "    df = df.reset_index(drop=True)\n",
    "    return df"
   ]
  },
  {
   "cell_type": "code",
   "execution_count": 26,
   "id": "080bc213",
   "metadata": {},
   "outputs": [
    {
     "data": {
      "text/plain": [
       "(16114, 4)"
      ]
     },
     "execution_count": 26,
     "metadata": {},
     "output_type": "execute_result"
    }
   ],
   "source": [
    "data_churn = churn_cutoff(data_new)\n",
    "data_churn.shape"
   ]
  },
  {
   "cell_type": "code",
   "execution_count": 30,
   "id": "e298ad73",
   "metadata": {},
   "outputs": [
    {
     "data": {
      "text/html": [
       "<div>\n",
       "<style scoped>\n",
       "    .dataframe tbody tr th:only-of-type {\n",
       "        vertical-align: middle;\n",
       "    }\n",
       "\n",
       "    .dataframe tbody tr th {\n",
       "        vertical-align: top;\n",
       "    }\n",
       "\n",
       "    .dataframe thead th {\n",
       "        text-align: right;\n",
       "    }\n",
       "</style>\n",
       "<table border=\"1\" class=\"dataframe\">\n",
       "  <thead>\n",
       "    <tr style=\"text-align: right;\">\n",
       "      <th></th>\n",
       "      <th>churn</th>\n",
       "      <th>prediction_label</th>\n",
       "      <th>prediction_score</th>\n",
       "      <th>revenue</th>\n",
       "    </tr>\n",
       "  </thead>\n",
       "  <tbody>\n",
       "    <tr>\n",
       "      <th>0</th>\n",
       "      <td>1</td>\n",
       "      <td>1</td>\n",
       "      <td>1.0</td>\n",
       "      <td>1018.003104</td>\n",
       "    </tr>\n",
       "    <tr>\n",
       "      <th>1</th>\n",
       "      <td>1</td>\n",
       "      <td>1</td>\n",
       "      <td>1.0</td>\n",
       "      <td>2556.426362</td>\n",
       "    </tr>\n",
       "    <tr>\n",
       "      <th>2</th>\n",
       "      <td>1</td>\n",
       "      <td>1</td>\n",
       "      <td>1.0</td>\n",
       "      <td>1954.888421</td>\n",
       "    </tr>\n",
       "    <tr>\n",
       "      <th>3</th>\n",
       "      <td>1</td>\n",
       "      <td>1</td>\n",
       "      <td>1.0</td>\n",
       "      <td>1108.583864</td>\n",
       "    </tr>\n",
       "    <tr>\n",
       "      <th>4</th>\n",
       "      <td>1</td>\n",
       "      <td>1</td>\n",
       "      <td>1.0</td>\n",
       "      <td>2206.867234</td>\n",
       "    </tr>\n",
       "    <tr>\n",
       "      <th>5</th>\n",
       "      <td>1</td>\n",
       "      <td>1</td>\n",
       "      <td>1.0</td>\n",
       "      <td>855.423590</td>\n",
       "    </tr>\n",
       "    <tr>\n",
       "      <th>6</th>\n",
       "      <td>1</td>\n",
       "      <td>1</td>\n",
       "      <td>1.0</td>\n",
       "      <td>1668.362531</td>\n",
       "    </tr>\n",
       "    <tr>\n",
       "      <th>7</th>\n",
       "      <td>1</td>\n",
       "      <td>1</td>\n",
       "      <td>1.0</td>\n",
       "      <td>962.135741</td>\n",
       "    </tr>\n",
       "    <tr>\n",
       "      <th>8</th>\n",
       "      <td>1</td>\n",
       "      <td>1</td>\n",
       "      <td>1.0</td>\n",
       "      <td>776.875905</td>\n",
       "    </tr>\n",
       "    <tr>\n",
       "      <th>9</th>\n",
       "      <td>1</td>\n",
       "      <td>1</td>\n",
       "      <td>1.0</td>\n",
       "      <td>1058.606577</td>\n",
       "    </tr>\n",
       "  </tbody>\n",
       "</table>\n",
       "</div>"
      ],
      "text/plain": [
       "   churn  prediction_label  prediction_score      revenue\n",
       "0      1                 1               1.0  1018.003104\n",
       "1      1                 1               1.0  2556.426362\n",
       "2      1                 1               1.0  1954.888421\n",
       "3      1                 1               1.0  1108.583864\n",
       "4      1                 1               1.0  2206.867234\n",
       "5      1                 1               1.0   855.423590\n",
       "6      1                 1               1.0  1668.362531\n",
       "7      1                 1               1.0   962.135741\n",
       "8      1                 1               1.0   776.875905\n",
       "9      1                 1               1.0  1058.606577"
      ]
     },
     "execution_count": 30,
     "metadata": {},
     "output_type": "execute_result"
    }
   ],
   "source": [
    "data_churn.head(10)"
   ]
  },
  {
   "cell_type": "code",
   "execution_count": 31,
   "id": "2d7594dc",
   "metadata": {},
   "outputs": [
    {
     "name": "stdout",
     "output_type": "stream",
     "text": [
      "Percentage of revenue spent on discount strategy for churning customers:  9.0\n"
     ]
    }
   ],
   "source": [
    "print(\"Percentage of revenue spent on discount strategy for churning customers: \",\n",
    "      round(data_churn['revenue'].sum()*0.2/data_predictions['revenue'].sum(),2)*100)"
   ]
  },
  {
   "cell_type": "markdown",
   "id": "2c29fcd9",
   "metadata": {},
   "source": [
    "#### The company will spend 9.0% of its revenue on offering a 20% discount to high-propensity-to-churn customers. This is not the best strategy as the company as the cost is too high"
   ]
  },
  {
   "cell_type": "markdown",
   "id": "8a4459a4",
   "metadata": {},
   "source": []
  }
 ],
 "metadata": {
  "kernelspec": {
   "display_name": "Python 3 (ipykernel)",
   "language": "python",
   "name": "python3"
  },
  "language_info": {
   "codemirror_mode": {
    "name": "ipython",
    "version": 3
   },
   "file_extension": ".py",
   "mimetype": "text/x-python",
   "name": "python",
   "nbconvert_exporter": "python",
   "pygments_lexer": "ipython3",
   "version": "3.9.13"
  }
 },
 "nbformat": 4,
 "nbformat_minor": 5
}
